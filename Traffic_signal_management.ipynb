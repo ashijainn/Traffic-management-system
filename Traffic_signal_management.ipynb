{
  "cells": [
    {
      "cell_type": "markdown",
      "metadata": {
        "id": "view-in-github",
        "colab_type": "text"
      },
      "source": [
        "<a href=\"https://colab.research.google.com/github/ashijainn/Amazon_Clone/blob/main/Traffic_signal_management.ipynb\" target=\"_parent\"><img src=\"https://colab.research.google.com/assets/colab-badge.svg\" alt=\"Open In Colab\"/></a>"
      ]
    },
    {
      "cell_type": "markdown",
      "metadata": {
        "id": "8vr-44j-Csxf"
      },
      "source": [
        "## Setup\n",
        "\n",
        "Install the Cirq and qsimcirq packages:"
      ]
    },
    {
      "cell_type": "code",
      "execution_count": null,
      "metadata": {
        "id": "XcAhsIQdivnp"
      },
      "outputs": [],
      "source": [
        "try:\n",
        "    import cirq\n",
        "except ImportError:\n",
        "    !pip install cirq --quiet\n",
        "    import cirq\n",
        "\n",
        "try:\n",
        "    import qsimcirq\n",
        "except ImportError:\n",
        "    !pip install qsimcirq --quiet\n",
        "    import qsimcirq"
      ]
    },
    {
      "cell_type": "markdown",
      "metadata": {
        "id": "7lYC4qxpDKMN"
      },
      "source": [
        "Simulating Cirq circuits with qsim is easy: just define the circuit as you normally would, then create a `QSimSimulator` to perform the simulation. This object implements Cirq's [simulator.py](https://github.com/quantumlib/Cirq/blob/master/cirq-core/cirq/sim/simulator.py) interfaces, so you can drop it in anywhere the basic Cirq simulator is used."
      ]
    },
    {
      "cell_type": "markdown",
      "metadata": {
        "id": "FXytmQlBoeTT"
      },
      "source": [
        "## Full state-vector simulation\n",
        "\n",
        "qsim is optimized for computing the final state vector of a circuit. Try it by running the example below."
      ]
    },
    {
      "cell_type": "code",
      "execution_count": null,
      "metadata": {
        "id": "jd8DaJMbjkCM"
      },
      "outputs": [],
      "source": [
        "# Define qubits and a short circuit.\n",
        "q0, q1 = cirq.LineQubit.range(2)\n",
        "circuit = cirq.Circuit(cirq.H(q0), cirq.CX(q0, q1))\n",
        "print(\"Circuit:\")\n",
        "print(circuit)\n",
        "print()\n",
        "\n",
        "# Simulate the circuit with Cirq and return the full state vector.\n",
        "print('Cirq results:')\n",
        "cirq_simulator = cirq.Simulator()\n",
        "cirq_results = cirq_simulator.simulate(circuit)\n",
        "print(cirq_results)\n",
        "print()\n",
        "\n",
        "# Simulate the circuit with qsim and return the full state vector.\n",
        "print('qsim results:')\n",
        "qsim_simulator = qsimcirq.QSimSimulator()\n",
        "qsim_results = qsim_simulator.simulate(circuit)\n",
        "print(qsim_results)"
      ]
    },
    {
      "cell_type": "markdown",
      "metadata": {
        "id": "-kyXlKujtZcp"
      },
      "source": [
        "To sample from this state, you can invoke Cirq's `sample_state_vector` method:"
      ]
    },
    {
      "cell_type": "code",
      "execution_count": null,
      "metadata": {
        "id": "-m6uzQ6ms9I7"
      },
      "outputs": [],
      "source": [
        "samples = cirq.sample_state_vector(\n",
        "    qsim_results.state_vector(), indices=[0, 1], repetitions=10)\n",
        "print(samples)"
      ]
    },
    {
      "cell_type": "markdown",
      "metadata": {
        "id": "pOhybi46sHwI"
      },
      "source": [
        "## Measurement sampling\n",
        "\n",
        "qsim also supports sampling from user-defined measurement gates.\n",
        "\n",
        "> *Note*: Since qsim and Cirq use different random number generators, identical runs on both simulators may give different results, even if they use the same seed."
      ]
    },
    {
      "cell_type": "code",
      "execution_count": null,
      "metadata": {
        "id": "NRJvtqYrnylJ"
      },
      "outputs": [],
      "source": [
        "# Define a circuit with measurements.\n",
        "q0, q1 = cirq.LineQubit.range(2)\n",
        "circuit = cirq.Circuit(\n",
        "    cirq.H(q0), cirq.X(q1), cirq.CX(q0, q1),\n",
        "    cirq.measure(q0, key='qubit_0'),\n",
        "    cirq.measure(q1, key='qubit_1'),\n",
        ")\n",
        "print(\"Circuit:\")\n",
        "print(circuit)\n",
        "print()\n",
        "\n",
        "# Simulate the circuit with Cirq and return just the measurement values.\n",
        "print('Cirq results:')\n",
        "cirq_simulator = cirq.Simulator()\n",
        "cirq_results = cirq_simulator.run(circuit, repetitions=5)\n",
        "print(cirq_results)\n",
        "print()\n",
        "\n",
        "# Simulate the circuit with qsim and return just the measurement values.\n",
        "print('qsim results:')\n",
        "qsim_simulator = qsimcirq.QSimSimulator()\n",
        "qsim_results = qsim_simulator.run(circuit, repetitions=5)\n",
        "print(qsim_results)"
      ]
    },
    {
      "cell_type": "markdown",
      "metadata": {
        "id": "6NoSr0E_wgR_"
      },
      "source": [
        "The warning above highlights an important distinction between the `simulate` and `run` methods:\n",
        "\n",
        "* `simulate` only executes the circuit once.\n",
        "  -  Sampling from the resulting state is fast, but if there are intermediate measurements the final state vector depends on the results of those measurements.\n",
        "* `run` will execute the circuit once for each repetition requested.\n",
        "  -  As a result, sampling is much slower, but intermediate measurements are re-sampled for each repetition. If there are no intermediate measurements, `run` redirects to `simulate` for faster execution.\n",
        "\n",
        "The warning goes away if intermediate measurements are present:"
      ]
    },
    {
      "cell_type": "code",
      "execution_count": null,
      "metadata": {
        "id": "hFrwYjWM0Hpa"
      },
      "outputs": [],
      "source": [
        "# Define a circuit with intermediate measurements.\n",
        "q0 = cirq.LineQubit(0)\n",
        "circuit = cirq.Circuit(\n",
        "    cirq.X(q0)**0.5, cirq.measure(q0, key='m0'),\n",
        "    cirq.X(q0)**0.5, cirq.measure(q0, key='m1'),\n",
        "    cirq.X(q0)**0.5, cirq.measure(q0, key='m2'),\n",
        ")\n",
        "print(\"Circuit:\")\n",
        "print(circuit)\n",
        "print()\n",
        "\n",
        "# Simulate the circuit with qsim and return just the measurement values.\n",
        "print('qsim results:')\n",
        "qsim_simulator = qsimcirq.QSimSimulator()\n",
        "qsim_results = qsim_simulator.run(circuit, repetitions=5)\n",
        "print(qsim_results)"
      ]
    },
    {
      "cell_type": "markdown",
      "metadata": {
        "id": "KhPHBKpi0lYE"
      },
      "source": [
        "## Amplitude evaluation\n",
        "\n",
        "qsim can also calculate amplitudes for specific output bitstrings."
      ]
    },
    {
      "cell_type": "code",
      "execution_count": null,
      "metadata": {
        "id": "aCbvXO6M1jWB"
      },
      "outputs": [],
      "source": [
        "# Define a simple circuit.\n",
        "q0, q1 = cirq.LineQubit.range(2)\n",
        "circuit = cirq.Circuit(cirq.H(q0), cirq.CX(q0, q1))\n",
        "print(\"Circuit:\")\n",
        "print(circuit)\n",
        "print()\n",
        "\n",
        "# Simulate the circuit with qsim and return the amplitudes for |00) and |01).\n",
        "print('Cirq results:')\n",
        "cirq_simulator = cirq.Simulator()\n",
        "cirq_results = cirq_simulator.compute_amplitudes(\n",
        "    circuit, bitstrings=[0b00, 0b01])\n",
        "print(cirq_results)\n",
        "print()\n",
        "\n",
        "# Simulate the circuit with qsim and return the amplitudes for |00) and |01).\n",
        "print('qsim results:')\n",
        "qsim_simulator = qsimcirq.QSimSimulator()\n",
        "qsim_results = qsim_simulator.compute_amplitudes(\n",
        "    circuit, bitstrings=[0b00, 0b01])\n",
        "print(qsim_results)"
      ]
    },
    {
      "cell_type": "markdown",
      "metadata": {
        "id": "zy5XRdkm219l"
      },
      "source": [
        "## Performance benchmark\n",
        "\n",
        "The code below generates a depth-16 circuit on a 4x5 qubit grid, then runs it against the basic Cirq simulator. For a circuit of this size, the difference in runtime can be significant - try it out!"
      ]
    },
    {
      "cell_type": "code",
      "execution_count": null,
      "metadata": {
        "id": "SyRpm08R3qCy"
      },
      "outputs": [],
      "source": [
        "import time\n",
        "\n",
        "# Get a rectangular grid of qubits.\n",
        "qubits = cirq.GridQubit.rect(4, 5)\n",
        "\n",
        "# Generates a random circuit on the provided qubits.\n",
        "circuit = cirq.experiments.random_rotations_between_grid_interaction_layers_circuit(\n",
        "    qubits=qubits, depth=16)\n",
        "\n",
        "# Simulate the circuit with Cirq and print the runtime.\n",
        "cirq_simulator = cirq.Simulator()\n",
        "cirq_start = time.time()\n",
        "cirq_results = cirq_simulator.simulate(circuit)\n",
        "cirq_elapsed = time.time() - cirq_start\n",
        "print(f'Cirq runtime: {cirq_elapsed} seconds.')\n",
        "print()\n",
        "\n",
        "# Simulate the circuit with qsim and print the runtime.\n",
        "qsim_simulator = qsimcirq.QSimSimulator()\n",
        "qsim_start = time.time()\n",
        "qsim_results = qsim_simulator.simulate(circuit)\n",
        "qsim_elapsed = time.time() - qsim_start\n",
        "print(f'qsim runtime: {qsim_elapsed} seconds.')"
      ]
    },
    {
      "cell_type": "markdown",
      "metadata": {
        "id": "OUjhKoRVZGKZ"
      },
      "source": [
        "qsim performance can be tuned further by passing options to the simulator constructor. These options use the same format as the qsim_base binary - a full description can be found in the qsim [usage doc](https://github.com/quantumlib/qsim/blob/master/docs/usage.md). The example below demonstrates enabling multithreading in qsim; for best performance, use the same number of threads as the number of cores (or virtual cores) on your machine."
      ]
    },
    {
      "cell_type": "code",
      "execution_count": null,
      "metadata": {
        "id": "yE6ZXAKzZL5P"
      },
      "outputs": [],
      "source": [
        "# Use eight threads to parallelize simulation.\n",
        "options = {'t': 8}\n",
        "\n",
        "qsim_simulator = qsimcirq.QSimSimulator(options)\n",
        "qsim_start = time.time()\n",
        "qsim_results = qsim_simulator.simulate(circuit)\n",
        "qsim_elapsed = time.time() - qsim_start\n",
        "print(f'qsim runtime: {qsim_elapsed} seconds.')"
      ]
    },
    {
      "cell_type": "markdown",
      "metadata": {
        "id": "HVkTbqfH4zls"
      },
      "source": [
        "Another option is to adjust the maximum number of qubits over which to fuse gates. Increasing this value (as demonstrated below) increases arithmetic intensity, which may improve performance with the right environment settings."
      ]
    },
    {
      "cell_type": "code",
      "metadata": {
        "id": "kkQ5ARpI5phJ"
      },
      "source": [
        "# Increase maximum fused gate size to three qubits.\n",
        "options = {'f': 3}\n",
        "\n",
        "qsim_simulator = qsimcirq.QSimSimulator(options)\n",
        "qsim_start = time.time()\n",
        "qsim_results = qsim_simulator.simulate(circuit)\n",
        "qsim_elapsed = time.time() - qsim_start\n",
        "print(f'qsim runtime: {qsim_elapsed} seconds.')"
      ],
      "execution_count": null,
      "outputs": []
    },
    {
      "cell_type": "markdown",
      "metadata": {
        "id": "LgWOEMLKutsq"
      },
      "source": [
        "## Advanced applications: Distributed execution\n",
        "\n",
        "qsimh (qsim-hybrid) is a second library in the qsim repository that takes a slightly different approach to circuit simulation. When simulating a quantum circuit, it's possible to simplify the execution by decomposing a subset of two-qubit gates into pairs of one-qubit gates with shared indices. This operation is called \"slicing\" (or \"cutting\") the gates.\n",
        "\n",
        "qsimh takes advantage of the \"slicing\" operation by selecting a set of gates to \"slice\" and assigning each possible value of the shared indices across a set of executors running in parallel. By adding up the results afterwards, the total state can be recovered."
      ]
    },
    {
      "cell_type": "code",
      "execution_count": null,
      "metadata": {
        "id": "t3OkT3FKuuhp"
      },
      "outputs": [],
      "source": [
        "# Pick a pair of qubits.\n",
        "q0 = cirq.GridQubit(0, 0)\n",
        "q1 = cirq.GridQubit(0, 1)\n",
        "\n",
        "# Create a circuit that entangles the pair.\n",
        "circuit = cirq.Circuit(\n",
        "    cirq.H(q0), cirq.CX(q0, q1), cirq.X(q1)\n",
        ")\n",
        "print(\"Circuit:\")\n",
        "print(circuit)"
      ]
    },
    {
      "cell_type": "markdown",
      "metadata": {
        "id": "KUAwCOGeu0wA"
      },
      "source": [
        "In order to let qsimh know how we want to split up the circuit, we need to pass it some additional options. More detail on these can be found in the qsim [usage doc](https://github.com/quantumlib/qsim/blob/master/docs/usage.md), but the fundamentals are explained below."
      ]
    },
    {
      "cell_type": "code",
      "execution_count": null,
      "metadata": {
        "id": "VXc-A8e7u262"
      },
      "outputs": [],
      "source": [
        "options = {}\n",
        "\n",
        "# 'k' indicates the qubits on one side of the cut.\n",
        "# We'll use qubit 0 for this.\n",
        "options['k'] = [0]\n",
        "\n",
        "# 'p' and 'r' control when values are assigned to cut indices.\n",
        "# There are some intricacies in choosing values for these options,\n",
        "# but for now we'll set p=1 and r=0.\n",
        "# This allows us to pre-assign the value of the CX indices\n",
        "# and distribute its execution to multiple jobs.\n",
        "options['p'] = 1\n",
        "options['r'] = 0\n",
        "\n",
        "# 'w' indicates the value pre-assigned to the cut.\n",
        "# This should change for each execution.\n",
        "options['w'] = 0\n",
        "\n",
        "# Create the qsimh simulator with those options.\n",
        "qsimh_simulator = qsimcirq.QSimhSimulator(options)\n",
        "results_0 = qsimh_simulator.compute_amplitudes(\n",
        "    circuit, bitstrings=[0b00, 0b01, 0b10, 0b11])\n",
        "print(results_0)"
      ]
    },
    {
      "cell_type": "markdown",
      "metadata": {
        "id": "eij3DsN4u5Om"
      },
      "source": [
        "Now to run the other side of the cut..."
      ]
    },
    {
      "cell_type": "code",
      "execution_count": null,
      "metadata": {
        "id": "py6I1omau6Gk"
      },
      "outputs": [],
      "source": [
        "options['w'] = 1\n",
        "\n",
        "qsimh_simulator = qsimcirq.QSimhSimulator(options)\n",
        "results_1 = qsimh_simulator.compute_amplitudes(\n",
        "    circuit, bitstrings=[0b00, 0b01, 0b10, 0b11])\n",
        "print(results_1)"
      ]
    },
    {
      "cell_type": "markdown",
      "metadata": {
        "id": "wnjmLDedu7j4"
      },
      "source": [
        "...and add the two together. The results of a normal qsim simulation are shown for comparison."
      ]
    },
    {
      "cell_type": "code",
      "execution_count": null,
      "metadata": {
        "id": "YQoyZ6ldu7--"
      },
      "outputs": [],
      "source": [
        "results = [r0 + r1 for r0, r1 in zip(results_0, results_1)]\n",
        "print(\"qsimh results:\")\n",
        "print(results)\n",
        "\n",
        "qsim_simulator = qsimcirq.QSimSimulator()\n",
        "qsim_simulator.compute_amplitudes(circuit, bitstrings=[0b00, 0b01, 0b10, 0b11])\n",
        "print(\"qsim results:\")\n",
        "print(results)"
      ]
    },
    {
      "cell_type": "markdown",
      "metadata": {
        "id": "o11JcJJ8vEfW"
      },
      "source": [
        "The key point to note here is that `results_0` and `results_1` are completely independent - they can be run in parallel on two separate machines, with no communication between the two. Getting the full result requires `2^p` executions, but each individual result is much cheaper to calculate than trying to do the whole circuit at once."
      ]
    },
    {
      "cell_type": "code",
      "source": [
        "import heapq\n",
        "\n",
        "# Define the road network as a graph (nodes are intersections, edges are roads with weights)\n",
        "roads = {\n",
        "    'A': {'B': 10, 'C': 15},\n",
        "    'B': {'D': 20},\n",
        "    'C': {'D': 10},\n",
        "    'D': {}\n",
        "}\n"
      ],
      "metadata": {
        "id": "gpnQL2MgYv85"
      },
      "execution_count": 2,
      "outputs": []
    },
    {
      "cell_type": "markdown",
      "source": [
        "Graph Representation: The road network is represented as a dictionary of dictionaries. Each key is a node (e.g., 'A', 'B'), and the value is another dictionary where the keys are connected nodes and the values are weights (e.g., travel time or distance). In this case, road weights are represented as travel times between intersections."
      ],
      "metadata": {
        "id": "bu5WAerPY7vX"
      }
    },
    {
      "cell_type": "markdown",
      "source": [
        "##Dijkstra's Algorithm"
      ],
      "metadata": {
        "id": "YAJOqTrQZE3r"
      }
    },
    {
      "cell_type": "code",
      "source": [
        "import heapq\n",
        "\n",
        "# Define the road network as a graph (nodes are intersections, edges are roads with weights)\n",
        "roads = {\n",
        "    'A': {'B': 10, 'C': 15},\n",
        "    'B': {'D': 20},\n",
        "    'C': {'D': 10},\n",
        "    'D': {}\n",
        "}\n",
        "def dijkstra(graph, start, end):\n",
        "  #his defines a function dijkstra that takes three arguments:\n",
        "#graph: the road network (as a dictionary).\n",
        "#start: the starting node (intersection).\n",
        "#end: the destination node.\n",
        "    # Priority queue to store the minimum distance from start to end\n",
        "    queue = [(0, start, [])]\n",
        "    #A priority queue is initialized with a tuple containing:\n",
        "#The current cost to reach the start node (0 because it's the starting point).\n",
        "#The start node.\n",
        "\n",
        "    seen = set()\n",
        "    #A set seen is initialized to keep track of the nodes that have already been visited.\n",
        "    min_dist = {start: 0}\n",
        "    #A dictionary min_dist is initialized to store the minimum distance from the start node to each other node. It begins with the start node having a distance of 0.\n",
        "\n",
        "    while queue:\n",
        "      #This loop continues while there are nodes to process in the queue.\n",
        "        (cost, node, path) = heapq.heappop(queue)\n",
        "        #The heapq.heappop(queue) command pops the node with the lowest cost from the priority queue.\n",
        "\n",
        "        if node in seen:\n",
        "            continue\n",
        "            #If the current node has already been processed (it's in the seen set), skip this node and continue with the next.\n",
        "\n",
        "        path = path + [node]\n",
        "\n",
        "        seen.add(node)\n",
        "         #Add the current node to the path. This updates the path with each node visited.\n",
        "\n",
        "        if node == end:\n",
        "            return cost, path\n",
        "            #If the current node is the destination (end), return the total cost and the path taken to reach the destination.\n",
        "\n",
        "        for next_node, weight in graph[node].items():\n",
        "           #Loop through the neighboring nodes (next_node) of the current node, along with the travel cost (weight) to reach each neighbor.\n",
        "            if next_node in seen:\n",
        "                continue\n",
        "                #If the neighboring node has already been visited, skip it and move to the next.\n",
        "\n",
        "            prev_cost = min_dist.get(next_node, float('inf'))\n",
        "            #Get the previously recorded cost to reach this neighbor (next_node)\n",
        "            next_cost = cost + weight\n",
        "            # Calculate the new cost to reach the neighbor by adding the current cost to the weight (cost) of the edge between the current node and the next node.\n",
        "            if next_cost < prev_cost:\n",
        "                min_dist[next_node] = next_cost\n",
        "                heapq.heappush(queue, (next_cost, next_node, path))\n",
        "                #If the new cost (next_cost) is lower than the previously recorded cost (prev_cost), update min_dist to store the new minimum cost to reach the neighbor.\n",
        "\n",
        "    return float('inf'), []\n",
        "#If the loop exits without finding the destination, return an infinite cost (float('inf')) and an empty path, indicating that no valid path exists."
      ],
      "metadata": {
        "id": "17vNQ3fiY-Y8"
      },
      "execution_count": 3,
      "outputs": []
    },
    {
      "cell_type": "markdown",
      "source": [
        "Priority Queue: The algorithm uses a priority queue (heapq) to explore nodes. The queue stores the total cost to reach a node, the node itself, and the path taken so far. The priority is based on the total cost (shortest path).\n",
        "\n",
        "Tracking Seen Nodes: The algorithm keeps track of nodes that have been visited (seen set) to avoid re-exploring them.\n",
        "\n",
        "Cost Calculation: For each node, Dijkstra's Algorithm checks all neighboring nodes. If a neighboring node hasn't been visited, it calculates the cost to reach that neighbor, updates the minimum cost if it's smaller than the previously recorded cost, and adds it to the queue.\n",
        "\n",
        "Path Finding: The algorithm stops once it reaches the destination (end). It returns the total travel cost and the path taken."
      ],
      "metadata": {
        "id": "5s21P98rZU8a"
      }
    },
    {
      "cell_type": "code",
      "source": [
        "cost, path = dijkstra(roads, 'A', 'D')\n",
        "print(f\"Shortest path: {path} with cost {cost}\")\n"
      ],
      "metadata": {
        "id": "oxV3xcDPZWR_",
        "outputId": "f209218f-3e35-4d1e-b587-503ea135200b",
        "colab": {
          "base_uri": "https://localhost:8080/"
        }
      },
      "execution_count": 4,
      "outputs": [
        {
          "output_type": "stream",
          "name": "stdout",
          "text": [
            "Shortest path: ['A', 'C', 'D'] with cost 25\n"
          ]
        }
      ]
    },
    {
      "cell_type": "markdown",
      "source": [
        "Shortest Path Output: The result will show the shortest path from node 'A' to 'D' with the corresponding total cost."
      ],
      "metadata": {
        "id": "pUg0530uZeXV"
      }
    },
    {
      "cell_type": "markdown",
      "source": [
        "##Quantum-Inspired Genetic Algorithms (QIGAs) for Vehicle Rerouting"
      ],
      "metadata": {
        "id": "7Fbu-EbFZnBN"
      }
    },
    {
      "cell_type": "code",
      "source": [
        "population = [\n",
        "    ['A', 'B', 'D'],  # Route 1\n",
        "    ['A', 'C', 'D'],  # Route 2\n",
        "    ['A', 'B', 'C', 'D']  # Route 3\n",
        "]\n",
        "#This initializes the population, which is a set of possible routes (chromosomes). Each route is represented as a list of nodes that the vehicle travels through.\n",
        "\n",
        "def fitness(route, graph):\n",
        "  #The fitness function calculates how good a particular route is by determining the total cost (travel time) of the route. A lower cost means a higher fitness.\n",
        "    total_cost = 0\n",
        "    for i in range(len(route) - 1):\n",
        "        current_node = route[i]\n",
        "        next_node = route[i+1]\n",
        "        #A loop is used to go through each pair of consecutive nodes in the route (from current_node to next_node).\n",
        "\n",
        "        # Check if the edge exists in the graph before accessing it\n",
        "        if next_node in graph.get(current_node, {}):\n",
        "            total_cost += graph[current_node][next_node]\n",
        "        else:\n",
        "            # If the edge doesn't exist, assign a very high cost (infinity)\n",
        "            return float('inf')  # Invalid route\n",
        "\n",
        "    return 1 / total_cost  # Higher fitness for shorter travel time\n"
      ],
      "metadata": {
        "id": "MLevGOdzZdQN"
      },
      "execution_count": 5,
      "outputs": []
    },
    {
      "cell_type": "markdown",
      "source": [
        "Population: The population is a set of possible routes (chromosomes). Each route is a list of nodes representing a potential path from the vehicle's current location to its destination.\n",
        "\n",
        "Fitness Function: The fitness of each route is determined by the total cost of traveling that route. If an edge in the route doesn't exist (i.e., no road between two nodes), the route is marked as invalid with a very high cost (float('inf')). The fitness score is the inverse of the total travel time, so shorter routes have higher fitness."
      ],
      "metadata": {
        "id": "R6tMu_rLZ4w_"
      }
    },
    {
      "cell_type": "code",
      "source": [
        "def crossover(route1, route2):\n",
        "    cut_point = random.randint(1, min(len(route1), len(route2)) - 2)\n",
        "    return route1[:cut_point] + route2[cut_point:]\n",
        "    #The crossover function takes two parent routes (route1 and route2), selects a random cut point, and combines the first part of route1 with the second part of route2.\n",
        "\n",
        "def mutate(route):\n",
        "    if len(route) > 2:  # Ensure there are at least two nodes to swap\n",
        "        i, j = random.sample(range(1, len(route) - 1), 2)  # Avoid start and end nodes\n",
        "        route[i], route[j] = route[j], route[i]\n",
        "    return route\n"
      ],
      "metadata": {
        "id": "O1rvPHMMZoeU"
      },
      "execution_count": 6,
      "outputs": []
    },
    {
      "cell_type": "markdown",
      "source": [
        "Crossover: Combines two routes (parents) to produce a new route (child). The crossover operation cuts each route at a random point and combines parts of the two parent routes to form a new path. This allows exploration of new paths that weren’t in the original population.\n",
        "\n",
        "Mutation: Randomly swaps two nodes in the route (except for the start and end nodes) to introduce variability. This simulates changes in the vehicle’s route and helps the algorithm explore new possibilities, avoiding local optima."
      ],
      "metadata": {
        "id": "9BP6sul-aQg3"
      }
    },
    {
      "cell_type": "markdown",
      "source": [
        "##Quantum-Inspired Genetic Algorithm"
      ],
      "metadata": {
        "id": "R-CXSI3NaVZs"
      }
    },
    {
      "cell_type": "markdown",
      "source": [],
      "metadata": {
        "id": "KuEOVac9aVLa"
      }
    },
    {
      "cell_type": "code",
      "source": [
        "def quantum_genetic_algorithm(population, graph, generations=10):\n",
        "  #The quantum_genetic_algorithm evolves the population of routes over multiple generations to find the most optimal one.\n",
        "    for generation in range(generations):\n",
        "        population.sort(key=lambda route: fitness(route, graph), reverse=True)\n",
        "        #In each generation, the population is sorted based on the fitness of each route (from highest to lowest).\n",
        "        # Select the top routes\n",
        "        new_population = population[:2]\n",
        "        # Apply crossover and mutation\n",
        "        for _ in range(len(population) - 2):\n",
        "            parent1, parent2 = random.sample(population, 2)\n",
        "            child = crossover(parent1, parent2)\n",
        "            if random.random() < 0.1:  # Mutation chance\n",
        "                child = mutate(child)\n",
        "            new_population.append(child)\n",
        "            #For the rest of the population:\n",
        "#Two parents are randomly selected from the current population.\n",
        "#A new child route is generated using crossover.\n",
        "#There’s a 10% chance that the child will undergo mutation.\n",
        "#The new child is added to the new population.\n",
        "        population = new_population\n",
        "        print(f\"Generation {generation+1}: Best route {population[0]} with fitness {fitness(population[0], graph)}\")\n",
        "        #The new population replaces the old one, and the best route in the current generation is printed.\n",
        "\n",
        "    return population[0]\n",
        "    #After all generations, the best route from the final population is returned.\n"
      ],
      "metadata": {
        "id": "jGxjK3AraRzy"
      },
      "execution_count": 7,
      "outputs": []
    },
    {
      "cell_type": "markdown",
      "source": [
        "Generations: The algorithm evolves the population over a number of generations (iterations). In each generation:\n",
        "\n",
        "The population is sorted by fitness, and the best routes are kept.\n",
        "New routes are created by applying crossover and mutation.\n",
        "The population evolves until an optimal or near-optimal solution is found.\n",
        "Random Selection: Parents for crossover are selected randomly from the population, and there’s a small chance (e.g., 10%) that mutation occurs to introduce new routes."
      ],
      "metadata": {
        "id": "swu0ls9cafyp"
      }
    },
    {
      "cell_type": "code",
      "source": [
        "best_route = quantum_genetic_algorithm(population, roads)\n",
        "print(f\"Best rerouted path: {best_route}\")\n"
      ],
      "metadata": {
        "id": "SX7si2vKarMV",
        "outputId": "88b27061-fba7-43c1-d47d-8f0d30327d8f",
        "colab": {
          "base_uri": "https://localhost:8080/"
        }
      },
      "execution_count": 8,
      "outputs": [
        {
          "output_type": "stream",
          "name": "stdout",
          "text": [
            "Generation 1: Best route ['A', 'B', 'C', 'D'] with fitness inf\n",
            "Generation 2: Best route ['A', 'B', 'C', 'D'] with fitness inf\n",
            "Generation 3: Best route ['A', 'B', 'C', 'D'] with fitness inf\n",
            "Generation 4: Best route ['A', 'B', 'C', 'D'] with fitness inf\n",
            "Generation 5: Best route ['A', 'B', 'C', 'D'] with fitness inf\n",
            "Generation 6: Best route ['A', 'B', 'C', 'D'] with fitness inf\n",
            "Generation 7: Best route ['A', 'B', 'C', 'D'] with fitness inf\n",
            "Generation 8: Best route ['A', 'B', 'C', 'D'] with fitness inf\n",
            "Generation 9: Best route ['A', 'B', 'C', 'D'] with fitness inf\n",
            "Generation 10: Best route ['A', 'B', 'C', 'D'] with fitness inf\n",
            "Best rerouted path: ['A', 'B', 'C', 'D']\n"
          ]
        }
      ]
    },
    {
      "cell_type": "markdown",
      "source": [
        "Best Route Output: The algorithm prints the best route for each generation and eventually returns the most optimal route after evolving the population."
      ],
      "metadata": {
        "id": "vbc7Ny46a0E6"
      }
    },
    {
      "cell_type": "markdown",
      "source": [
        "##Quantum Annealing for Traffic Light Optimization"
      ],
      "metadata": {
        "id": "MQmejOcLa_SY"
      }
    },
    {
      "cell_type": "code",
      "source": [
        "import random\n",
        "\n",
        "# Simulate the annealing function for optimizing green light durations\n",
        "def anneal(intersection):\n",
        "    # Define the range of possible green light durations (in seconds)\n",
        "    possible_durations = range(20, 61)  # 20 to 60 seconds\n",
        "\n",
        "    # Simulate a congestion metric: higher green light duration might reduce congestion up to a point\n",
        "    best_duration = 0\n",
        "    min_congestion = float('inf')\n",
        "\n",
        "    for duration in possible_durations:\n",
        "        # Simulate congestion based on green light duration (a mock function for congestion)\n",
        "        congestion = calculate_congestion(intersection, duration)\n",
        "\n",
        "        if congestion < min_congestion:\n",
        "            min_congestion = congestion\n",
        "            best_duration = duration\n",
        "\n",
        "    return best_duration\n",
        "\n",
        "# Mock function to calculate congestion based on green light duration\n",
        "def calculate_congestion(intersection, duration):\n",
        "    # A simple heuristic where congestion decreases until the duration is around 45 seconds\n",
        "    # After that, the congestion may increase (over-long green lights create congestion elsewhere)\n",
        "    optimal_duration = 45  # Hypothetically, 45 seconds minimizes congestion\n",
        "\n",
        "    # The congestion is calculated based on the difference from the optimal duration\n",
        "    congestion = abs(duration - optimal_duration) ** 2  # Squared distance from optimal\n",
        "\n",
        "    # Introduce randomness to simulate real-world conditions\n",
        "    congestion += random.uniform(0, 10)  # Add some noise to simulate unpredictable traffic\n",
        "\n",
        "    return congestion\n",
        "\n",
        "# Simulated quantum annealing to optimize traffic light durations\n",
        "def quantum_annealing_traffic_light_optimization(intersections):\n",
        "    for intersection in intersections:\n",
        "        green_duration = anneal(intersection)\n",
        "        print(f\"Optimized green duration for {intersection}: {green_duration} seconds\")\n",
        "\n",
        "# Example usage\n",
        "intersections = ['A', 'B', 'C', 'D']\n",
        "quantum_annealing_traffic_light_optimization(intersections)\n"
      ],
      "metadata": {
        "id": "YWnp0-HapVbt",
        "outputId": "0fb1f621-a7c3-4a85-ab43-beee026084a9",
        "colab": {
          "base_uri": "https://localhost:8080/"
        }
      },
      "execution_count": 1,
      "outputs": [
        {
          "output_type": "stream",
          "name": "stdout",
          "text": [
            "Optimized green duration for A: 44 seconds\n",
            "Optimized green duration for B: 45 seconds\n",
            "Optimized green duration for C: 44 seconds\n",
            "Optimized green duration for D: 45 seconds\n"
          ]
        }
      ]
    },
    {
      "cell_type": "markdown",
      "source": [
        "anneal() function: Simulates quantum annealing by testing different green light durations (from 20 to 60 seconds). The duration that produces the lowest congestion is chosen as the best.\n",
        "\n",
        "calculate_congestion() function: Models how congestion is related to green light duration. The congestion is minimal when the duration is close to 45 seconds, and it increases as you move further away from this optimal duration.\n",
        "\n",
        "Noise/randomness: To make it more realistic, we add random noise to the congestion value, mimicking unpredictable factors like unexpected traffic or accidents."
      ],
      "metadata": {
        "id": "7VOiAXjbqb91"
      }
    },
    {
      "cell_type": "code",
      "source": [],
      "metadata": {
        "id": "Eh7SJEOwpuik"
      },
      "execution_count": null,
      "outputs": []
    }
  ],
  "metadata": {
    "colab": {
      "toc_visible": true,
      "provenance": [],
      "include_colab_link": true
    },
    "kernelspec": {
      "display_name": "Python 3",
      "name": "python3"
    }
  },
  "nbformat": 4,
  "nbformat_minor": 0
}